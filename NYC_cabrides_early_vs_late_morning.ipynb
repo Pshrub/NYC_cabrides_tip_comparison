{
 "cells": [
  {
   "cell_type": "code",
   "execution_count": 2,
   "metadata": {
    "collapsed": true
   },
   "outputs": [],
   "source": [
    "# ##################\n",
    "# package imports\n",
    "# ##################\n",
    "\n",
    "from scipy import stats\n",
    "import pandas as pd\n",
    "import numpy as np\n",
    "import matplotlib.pyplot as plt\n",
    "import seaborn as sns\n",
    "import math\n",
    "\n",
    "# this allows plots to appear directly in the notebook\n",
    "%matplotlib inline"
   ]
  },
  {
   "cell_type": "code",
   "execution_count": 111,
   "metadata": {},
   "outputs": [],
   "source": [
    "# ##################\n",
    "# Load the early morning (12AM-3 AM local time) data\n",
    "# ##################\n",
    "\n",
    "earlymorning_cabrides_2011_2014 = pd.read_csv(\"/Users/pfagan/Downloads/project/earlymorning_cabrides.csv\", \\\n",
    "                   dtype={'dt': str, 'card_no_tip': np.int64, 'card_with_tip': np.int64}\\\n",
    "                  )"
   ]
  },
  {
   "cell_type": "code",
   "execution_count": 112,
   "metadata": {},
   "outputs": [
    {
     "data": {
      "text/plain": [
       "(1462, 3)"
      ]
     },
     "execution_count": 112,
     "metadata": {},
     "output_type": "execute_result"
    }
   ],
   "source": [
    "earlymorning_cabrides_2011_2014.shape"
   ]
  },
  {
   "cell_type": "code",
   "execution_count": 113,
   "metadata": {},
   "outputs": [
    {
     "data": {
      "text/html": [
       "<div>\n",
       "<style scoped>\n",
       "    .dataframe tbody tr th:only-of-type {\n",
       "        vertical-align: middle;\n",
       "    }\n",
       "\n",
       "    .dataframe tbody tr th {\n",
       "        vertical-align: top;\n",
       "    }\n",
       "\n",
       "    .dataframe thead th {\n",
       "        text-align: right;\n",
       "    }\n",
       "</style>\n",
       "<table border=\"1\" class=\"dataframe\">\n",
       "  <thead>\n",
       "    <tr style=\"text-align: right;\">\n",
       "      <th></th>\n",
       "      <th>dt</th>\n",
       "      <th>card_no_tip</th>\n",
       "      <th>card_with_tip</th>\n",
       "    </tr>\n",
       "  </thead>\n",
       "  <tbody>\n",
       "    <tr>\n",
       "      <th>0</th>\n",
       "      <td>2011-08-28</td>\n",
       "      <td>0</td>\n",
       "      <td>7</td>\n",
       "    </tr>\n",
       "    <tr>\n",
       "      <th>1</th>\n",
       "      <td>2012-10-30</td>\n",
       "      <td>2</td>\n",
       "      <td>124</td>\n",
       "    </tr>\n",
       "  </tbody>\n",
       "</table>\n",
       "</div>"
      ],
      "text/plain": [
       "           dt  card_no_tip  card_with_tip\n",
       "0  2011-08-28            0              7\n",
       "1  2012-10-30            2            124"
      ]
     },
     "execution_count": 113,
     "metadata": {},
     "output_type": "execute_result"
    }
   ],
   "source": [
    "earlymorning_cabrides_2011_2014.head(2)"
   ]
  },
  {
   "cell_type": "code",
   "execution_count": 114,
   "metadata": {
    "collapsed": true
   },
   "outputs": [],
   "source": [
    "def calc_ratio(num1, num2):\n",
    "    '''\n",
    "    This function is used to calculate the percentage of cash rides (ratio between two numbers)\n",
    "    (num1: FLOAT, num2: FLOAT) => result: FLOAT\n",
    "    ex: calc_ratio(3.5, 20.0) == 17.5\n",
    "    '''\n",
    "\n",
    "    try:\n",
    "        result = 100*(num1/num2)\n",
    "    except ZeroDivisionError:\n",
    "        print(\"Divide by zero error. Remove records where denominator = 0\")\n",
    "    else:\n",
    "        return result"
   ]
  },
  {
   "cell_type": "code",
   "execution_count": 115,
   "metadata": {},
   "outputs": [
    {
     "data": {
      "text/plain": [
       "17.5"
      ]
     },
     "execution_count": 115,
     "metadata": {},
     "output_type": "execute_result"
    }
   ],
   "source": [
    "# ##########\n",
    "# check on the function\n",
    "# #########\n",
    "\n",
    "t = 3.5\n",
    "f = 20\n",
    "\n",
    "calc_ratio(t,f)\n"
   ]
  },
  {
   "cell_type": "code",
   "execution_count": 116,
   "metadata": {},
   "outputs": [],
   "source": [
    "# ###########\n",
    "# calculate the percentage of cash rides to non-cash rides\n",
    "# ###########\n",
    "\n",
    "earlymorning_cabrides_2011_2014['tip_ratio'] = earlymorning_cabrides_2011_2014.apply(lambda row: \\\n",
    "                                        calc_ratio(row['card_no_tip'],row['card_with_tip']), axis = 1)\n"
   ]
  },
  {
   "cell_type": "code",
   "execution_count": 117,
   "metadata": {},
   "outputs": [
    {
     "data": {
      "text/html": [
       "<div>\n",
       "<style scoped>\n",
       "    .dataframe tbody tr th:only-of-type {\n",
       "        vertical-align: middle;\n",
       "    }\n",
       "\n",
       "    .dataframe tbody tr th {\n",
       "        vertical-align: top;\n",
       "    }\n",
       "\n",
       "    .dataframe thead th {\n",
       "        text-align: right;\n",
       "    }\n",
       "</style>\n",
       "<table border=\"1\" class=\"dataframe\">\n",
       "  <thead>\n",
       "    <tr style=\"text-align: right;\">\n",
       "      <th></th>\n",
       "      <th>dt</th>\n",
       "      <th>card_no_tip</th>\n",
       "      <th>card_with_tip</th>\n",
       "      <th>tip_ratio</th>\n",
       "    </tr>\n",
       "  </thead>\n",
       "  <tbody>\n",
       "    <tr>\n",
       "      <th>0</th>\n",
       "      <td>2011-08-28</td>\n",
       "      <td>0</td>\n",
       "      <td>7</td>\n",
       "      <td>0.000000</td>\n",
       "    </tr>\n",
       "    <tr>\n",
       "      <th>1</th>\n",
       "      <td>2012-10-30</td>\n",
       "      <td>2</td>\n",
       "      <td>124</td>\n",
       "      <td>1.612903</td>\n",
       "    </tr>\n",
       "    <tr>\n",
       "      <th>2</th>\n",
       "      <td>2011-01-02</td>\n",
       "      <td>18</td>\n",
       "      <td>501</td>\n",
       "      <td>3.592814</td>\n",
       "    </tr>\n",
       "    <tr>\n",
       "      <th>3</th>\n",
       "      <td>2011-01-27</td>\n",
       "      <td>20</td>\n",
       "      <td>1391</td>\n",
       "      <td>1.437815</td>\n",
       "    </tr>\n",
       "    <tr>\n",
       "      <th>4</th>\n",
       "      <td>2014-01-03</td>\n",
       "      <td>25</td>\n",
       "      <td>1017</td>\n",
       "      <td>2.458210</td>\n",
       "    </tr>\n",
       "  </tbody>\n",
       "</table>\n",
       "</div>"
      ],
      "text/plain": [
       "           dt  card_no_tip  card_with_tip  tip_ratio\n",
       "0  2011-08-28            0              7   0.000000\n",
       "1  2012-10-30            2            124   1.612903\n",
       "2  2011-01-02           18            501   3.592814\n",
       "3  2011-01-27           20           1391   1.437815\n",
       "4  2014-01-03           25           1017   2.458210"
      ]
     },
     "execution_count": 117,
     "metadata": {},
     "output_type": "execute_result"
    }
   ],
   "source": [
    "earlymorning_cabrides_2011_2014.head(5)"
   ]
  },
  {
   "cell_type": "code",
   "execution_count": 118,
   "metadata": {},
   "outputs": [
    {
     "data": {
      "text/html": [
       "<div>\n",
       "<style scoped>\n",
       "    .dataframe tbody tr th:only-of-type {\n",
       "        vertical-align: middle;\n",
       "    }\n",
       "\n",
       "    .dataframe tbody tr th {\n",
       "        vertical-align: top;\n",
       "    }\n",
       "\n",
       "    .dataframe thead th {\n",
       "        text-align: right;\n",
       "    }\n",
       "</style>\n",
       "<table border=\"1\" class=\"dataframe\">\n",
       "  <thead>\n",
       "    <tr style=\"text-align: right;\">\n",
       "      <th></th>\n",
       "      <th>card_no_tip</th>\n",
       "      <th>card_with_tip</th>\n",
       "      <th>tip_ratio</th>\n",
       "    </tr>\n",
       "  </thead>\n",
       "  <tbody>\n",
       "    <tr>\n",
       "      <th>count</th>\n",
       "      <td>1462.000000</td>\n",
       "      <td>1462.000000</td>\n",
       "      <td>1462.000000</td>\n",
       "    </tr>\n",
       "    <tr>\n",
       "      <th>mean</th>\n",
       "      <td>114.491792</td>\n",
       "      <td>4476.270178</td>\n",
       "      <td>2.867641</td>\n",
       "    </tr>\n",
       "    <tr>\n",
       "      <th>std</th>\n",
       "      <td>47.935799</td>\n",
       "      <td>1566.510360</td>\n",
       "      <td>1.566745</td>\n",
       "    </tr>\n",
       "    <tr>\n",
       "      <th>min</th>\n",
       "      <td>0.000000</td>\n",
       "      <td>7.000000</td>\n",
       "      <td>0.000000</td>\n",
       "    </tr>\n",
       "    <tr>\n",
       "      <th>25%</th>\n",
       "      <td>82.000000</td>\n",
       "      <td>3524.000000</td>\n",
       "      <td>1.763365</td>\n",
       "    </tr>\n",
       "    <tr>\n",
       "      <th>50%</th>\n",
       "      <td>104.000000</td>\n",
       "      <td>4370.500000</td>\n",
       "      <td>2.194383</td>\n",
       "    </tr>\n",
       "    <tr>\n",
       "      <th>75%</th>\n",
       "      <td>134.000000</td>\n",
       "      <td>5091.750000</td>\n",
       "      <td>3.837634</td>\n",
       "    </tr>\n",
       "    <tr>\n",
       "      <th>max</th>\n",
       "      <td>331.000000</td>\n",
       "      <td>8307.000000</td>\n",
       "      <td>8.909795</td>\n",
       "    </tr>\n",
       "  </tbody>\n",
       "</table>\n",
       "</div>"
      ],
      "text/plain": [
       "       card_no_tip  card_with_tip    tip_ratio\n",
       "count  1462.000000    1462.000000  1462.000000\n",
       "mean    114.491792    4476.270178     2.867641\n",
       "std      47.935799    1566.510360     1.566745\n",
       "min       0.000000       7.000000     0.000000\n",
       "25%      82.000000    3524.000000     1.763365\n",
       "50%     104.000000    4370.500000     2.194383\n",
       "75%     134.000000    5091.750000     3.837634\n",
       "max     331.000000    8307.000000     8.909795"
      ]
     },
     "execution_count": 118,
     "metadata": {},
     "output_type": "execute_result"
    }
   ],
   "source": [
    "earlymorning_cabrides_2011_2014.describe()"
   ]
  },
  {
   "cell_type": "code",
   "execution_count": 119,
   "metadata": {},
   "outputs": [
    {
     "data": {
      "image/png": "[encoded data removed]",
      "text/plain": [
       "<matplotlib.figure.Figure at 0x10d1d96d8>"
      ]
     },
     "metadata": {},
     "output_type": "display_data"
    }
   ],
   "source": [
    "# ##################\n",
    "# create a boxplot to check for outliers\n",
    "# ##################\n",
    "\n",
    "ax = sns.boxplot(x=earlymorning_cabrides_2011_2014[\"tip_ratio\"])"
   ]
  },
  {
   "cell_type": "code",
   "execution_count": 120,
   "metadata": {},
   "outputs": [
    {
     "data": {
      "text/plain": [
       "1.1756372908176362"
      ]
     },
     "execution_count": 120,
     "metadata": {},
     "output_type": "execute_result"
    }
   ],
   "source": [
    "# ##################\n",
    "# check the skewness\n",
    "# ##################\n",
    "\n",
    "earlymorning_cabrides_2011_2014[\"tip_ratio\"].skew()"
   ]
  },
  {
   "cell_type": "code",
   "execution_count": 121,
   "metadata": {},
   "outputs": [
    {
     "name": "stdout",
     "output_type": "stream",
     "text": [
      "7.032829660229856\n"
     ]
    }
   ],
   "source": [
    "# ##################\n",
    "# calculate the 99% percentile value for the tip_ratio value\n",
    "# ##################\n",
    "\n",
    "q99a = earlymorning_cabrides_2011_2014[\"tip_ratio\"].quantile(0.99) # 7.03\n",
    "print(q99a)"
   ]
  },
  {
   "cell_type": "code",
   "execution_count": 122,
   "metadata": {
    "collapsed": true
   },
   "outputs": [],
   "source": [
    "# ##################\n",
    "# remove the outliers\n",
    "# ##################\n",
    "\n",
    "earlymorning_cabrides_2011_2014_v2 = earlymorning_cabrides_2011_2014 \\\n",
    "                                   [earlymorning_cabrides_2011_2014[\"tip_ratio\"] < q99a]"
   ]
  },
  {
   "cell_type": "code",
   "execution_count": 123,
   "metadata": {},
   "outputs": [
    {
     "data": {
      "image/png": "[encoded data removed]",
      "text/plain": [
       "<matplotlib.figure.Figure at 0x10d0cb7b8>"
      ]
     },
     "metadata": {},
     "output_type": "display_data"
    }
   ],
   "source": [
    "# ##################\n",
    "# create a boxplot to check for outliers\n",
    "# ##################\n",
    "\n",
    "ax2 = sns.boxplot(x=earlymorning_cabrides_2011_2014_v2[\"tip_ratio\"])"
   ]
  },
  {
   "cell_type": "code",
   "execution_count": 124,
   "metadata": {},
   "outputs": [
    {
     "data": {
      "text/plain": [
       "1.12844391168659"
      ]
     },
     "execution_count": 124,
     "metadata": {},
     "output_type": "execute_result"
    }
   ],
   "source": [
    "# ##################\n",
    "# the skewness issue has been resolved\n",
    "# ##################\n",
    "\n",
    "earlymorning_cabrides_2011_2014_v2[\"tip_ratio\"].skew()"
   ]
  },
  {
   "cell_type": "code",
   "execution_count": 125,
   "metadata": {},
   "outputs": [
    {
     "data": {
      "text/plain": [
       "<matplotlib.axes._subplots.AxesSubplot at 0x10a4cc978>"
      ]
     },
     "execution_count": 125,
     "metadata": {},
     "output_type": "execute_result"
    },
    {
     "data": {
      "image/png": "[encoded data removed]",
      "text/plain": [
       "<matplotlib.figure.Figure at 0x10d570b00>"
      ]
     },
     "metadata": {},
     "output_type": "display_data"
    }
   ],
   "source": [
    "# ##################\n",
    "# create a histogram of the data\n",
    "# ##################\n",
    "\n",
    "sns.set(color_codes=True)\n",
    "sns.set(style=\"white\", palette=\"muted\")\n",
    "sns.distplot(earlymorning_cabrides_2011_2014_v2[\"tip_ratio\"], hist=True ) "
   ]
  },
  {
   "cell_type": "code",
   "execution_count": 126,
   "metadata": {},
   "outputs": [
    {
     "data": {
      "text/plain": [
       "count    1447.000000\n",
       "mean        2.819412\n",
       "std         1.500241\n",
       "min         0.000000\n",
       "25%         1.757237\n",
       "50%         2.185445\n",
       "75%         3.744168\n",
       "max         7.020598\n",
       "Name: tip_ratio, dtype: float64"
      ]
     },
     "execution_count": 126,
     "metadata": {},
     "output_type": "execute_result"
    }
   ],
   "source": [
    "earlymorning_cabrides_2011_2014_v2[\"tip_ratio\"].describe()"
   ]
  },
  {
   "cell_type": "code",
   "execution_count": null,
   "metadata": {},
   "outputs": [],
   "source": []
  },
  {
   "cell_type": "code",
   "execution_count": 72,
   "metadata": {
    "collapsed": true
   },
   "outputs": [],
   "source": [
    "# ##################\n",
    "# Load the late morning (9 AM-12 PM local time) data\n",
    "# ##################\n",
    "\n",
    "latemorning_cabrides_2011_2014 = pd.read_csv(\"/Users/pfagan/Downloads/project/latemorning_cabrides.csv\", \\\n",
    "                   dtype={'dt': str, 'card_no_tip': np.int64, 'card_with_tip': np.int64}\\\n",
    "                  )"
   ]
  },
  {
   "cell_type": "code",
   "execution_count": 73,
   "metadata": {},
   "outputs": [
    {
     "data": {
      "text/plain": [
       "(1462, 3)"
      ]
     },
     "execution_count": 73,
     "metadata": {},
     "output_type": "execute_result"
    }
   ],
   "source": [
    "latemorning_cabrides_2011_2014.shape"
   ]
  },
  {
   "cell_type": "code",
   "execution_count": 74,
   "metadata": {},
   "outputs": [
    {
     "data": {
      "text/html": [
       "<div>\n",
       "<style scoped>\n",
       "    .dataframe tbody tr th:only-of-type {\n",
       "        vertical-align: middle;\n",
       "    }\n",
       "\n",
       "    .dataframe tbody tr th {\n",
       "        vertical-align: top;\n",
       "    }\n",
       "\n",
       "    .dataframe thead th {\n",
       "        text-align: right;\n",
       "    }\n",
       "</style>\n",
       "<table border=\"1\" class=\"dataframe\">\n",
       "  <thead>\n",
       "    <tr style=\"text-align: right;\">\n",
       "      <th></th>\n",
       "      <th>dt</th>\n",
       "      <th>card_no_tip</th>\n",
       "      <th>card_with_tip</th>\n",
       "    </tr>\n",
       "  </thead>\n",
       "  <tbody>\n",
       "    <tr>\n",
       "      <th>0</th>\n",
       "      <td>2011-01-01</td>\n",
       "      <td>25</td>\n",
       "      <td>2035</td>\n",
       "    </tr>\n",
       "    <tr>\n",
       "      <th>1</th>\n",
       "      <td>2011-01-02</td>\n",
       "      <td>39</td>\n",
       "      <td>2370</td>\n",
       "    </tr>\n",
       "  </tbody>\n",
       "</table>\n",
       "</div>"
      ],
      "text/plain": [
       "           dt  card_no_tip  card_with_tip\n",
       "0  2011-01-01           25           2035\n",
       "1  2011-01-02           39           2370"
      ]
     },
     "execution_count": 74,
     "metadata": {},
     "output_type": "execute_result"
    }
   ],
   "source": [
    "latemorning_cabrides_2011_2014.head(2)"
   ]
  },
  {
   "cell_type": "code",
   "execution_count": 80,
   "metadata": {},
   "outputs": [],
   "source": [
    "# ###########\n",
    "# calculate the tip to fare ratio\n",
    "# ###########\n",
    "\n",
    "latemorning_cabrides_2011_2014['tip_ratio'] = latemorning_cabrides_2011_2014.apply(lambda row: \\\n",
    "                                        calc_ratio(row['card_no_tip'],row['card_with_tip']), axis = 1)\n"
   ]
  },
  {
   "cell_type": "code",
   "execution_count": 81,
   "metadata": {},
   "outputs": [
    {
     "data": {
      "text/html": [
       "<div>\n",
       "<style scoped>\n",
       "    .dataframe tbody tr th:only-of-type {\n",
       "        vertical-align: middle;\n",
       "    }\n",
       "\n",
       "    .dataframe tbody tr th {\n",
       "        vertical-align: top;\n",
       "    }\n",
       "\n",
       "    .dataframe thead th {\n",
       "        text-align: right;\n",
       "    }\n",
       "</style>\n",
       "<table border=\"1\" class=\"dataframe\">\n",
       "  <thead>\n",
       "    <tr style=\"text-align: right;\">\n",
       "      <th></th>\n",
       "      <th>dt</th>\n",
       "      <th>card_no_tip</th>\n",
       "      <th>card_with_tip</th>\n",
       "      <th>cash_ratio</th>\n",
       "      <th>tip_ratio</th>\n",
       "    </tr>\n",
       "  </thead>\n",
       "  <tbody>\n",
       "    <tr>\n",
       "      <th>1457</th>\n",
       "      <td>2014-12-28</td>\n",
       "      <td>181</td>\n",
       "      <td>5663</td>\n",
       "      <td>3.196186</td>\n",
       "      <td>3.196186</td>\n",
       "    </tr>\n",
       "    <tr>\n",
       "      <th>1458</th>\n",
       "      <td>2014-12-29</td>\n",
       "      <td>222</td>\n",
       "      <td>5749</td>\n",
       "      <td>3.861541</td>\n",
       "      <td>3.861541</td>\n",
       "    </tr>\n",
       "    <tr>\n",
       "      <th>1459</th>\n",
       "      <td>2014-12-30</td>\n",
       "      <td>261</td>\n",
       "      <td>6621</td>\n",
       "      <td>3.942003</td>\n",
       "      <td>3.942003</td>\n",
       "    </tr>\n",
       "    <tr>\n",
       "      <th>1460</th>\n",
       "      <td>2014-12-31</td>\n",
       "      <td>280</td>\n",
       "      <td>8069</td>\n",
       "      <td>3.470071</td>\n",
       "      <td>3.470071</td>\n",
       "    </tr>\n",
       "    <tr>\n",
       "      <th>1461</th>\n",
       "      <td>2015-01-01</td>\n",
       "      <td>213</td>\n",
       "      <td>6577</td>\n",
       "      <td>3.238559</td>\n",
       "      <td>3.238559</td>\n",
       "    </tr>\n",
       "  </tbody>\n",
       "</table>\n",
       "</div>"
      ],
      "text/plain": [
       "              dt  card_no_tip  card_with_tip  cash_ratio  tip_ratio\n",
       "1457  2014-12-28          181           5663    3.196186   3.196186\n",
       "1458  2014-12-29          222           5749    3.861541   3.861541\n",
       "1459  2014-12-30          261           6621    3.942003   3.942003\n",
       "1460  2014-12-31          280           8069    3.470071   3.470071\n",
       "1461  2015-01-01          213           6577    3.238559   3.238559"
      ]
     },
     "execution_count": 81,
     "metadata": {},
     "output_type": "execute_result"
    }
   ],
   "source": [
    "latemorning_cabrides_2011_2014.tail(5)"
   ]
  },
  {
   "cell_type": "code",
   "execution_count": 84,
   "metadata": {},
   "outputs": [
    {
     "data": {
      "image/png": "[encoded data removed]",
      "text/plain": [
       "<matplotlib.figure.Figure at 0x10d12fd30>"
      ]
     },
     "metadata": {},
     "output_type": "display_data"
    }
   ],
   "source": [
    "# ##################\n",
    "# create a boxplot to check for outliers\n",
    "# ##################\n",
    "\n",
    "ax1 = sns.boxplot(x=latemorning_cabrides_2011_2014[\"tip_ratio\"])"
   ]
  },
  {
   "cell_type": "code",
   "execution_count": 85,
   "metadata": {},
   "outputs": [
    {
     "data": {
      "text/plain": [
       "0.4011799743850015"
      ]
     },
     "execution_count": 85,
     "metadata": {},
     "output_type": "execute_result"
    }
   ],
   "source": [
    "# ##################\n",
    "# check the skewness\n",
    "# ##################\n",
    "\n",
    "latemorning_cabrides_2011_2014[\"tip_ratio\"].skew()"
   ]
  },
  {
   "cell_type": "code",
   "execution_count": 88,
   "metadata": {},
   "outputs": [
    {
     "name": "stdout",
     "output_type": "stream",
     "text": [
      "3.820682152011146\n"
     ]
    }
   ],
   "source": [
    "# ##################\n",
    "# calculate the 99% percentile value for the tip_ratio value\n",
    "# ##################\n",
    "\n",
    "q99b = latemorning_cabrides_2011_2014[\"tip_ratio\"].quantile(0.99) # 6.02\n",
    "print(q99b)"
   ]
  },
  {
   "cell_type": "code",
   "execution_count": 89,
   "metadata": {
    "collapsed": true
   },
   "outputs": [],
   "source": [
    "# ##################\n",
    "# remove the outliers\n",
    "# ##################\n",
    "\n",
    "latemorning_cabrides_2011_2014_v2 = latemorning_cabrides_2011_2014\\\n",
    "                                     [latemorning_cabrides_2011_2014[\"tip_ratio\"] < q99b]"
   ]
  },
  {
   "cell_type": "code",
   "execution_count": 91,
   "metadata": {},
   "outputs": [
    {
     "data": {
      "image/png": "[encoded data removed]",
      "text/plain": [
       "<matplotlib.figure.Figure at 0x10d36dc50>"
      ]
     },
     "metadata": {},
     "output_type": "display_data"
    }
   ],
   "source": [
    "# ##################\n",
    "# create a boxplot to check for outliers\n",
    "# ##################\n",
    "\n",
    "ax2 = sns.boxplot(x=latemorning_cabrides_2011_2014_v2[\"tip_ratio\"])"
   ]
  },
  {
   "cell_type": "code",
   "execution_count": 92,
   "metadata": {},
   "outputs": [
    {
     "data": {
      "text/plain": [
       "0.18047373404489558"
      ]
     },
     "execution_count": 92,
     "metadata": {},
     "output_type": "execute_result"
    }
   ],
   "source": [
    "# ##################\n",
    "# check the skewness\n",
    "# ##################\n",
    "\n",
    "latemorning_cabrides_2011_2014_v2[\"tip_ratio\"].skew()"
   ]
  },
  {
   "cell_type": "code",
   "execution_count": 93,
   "metadata": {},
   "outputs": [
    {
     "data": {
      "text/plain": [
       "<matplotlib.axes._subplots.AxesSubplot at 0x10d50b780>"
      ]
     },
     "execution_count": 93,
     "metadata": {},
     "output_type": "execute_result"
    },
    {
     "data": {
      "image/png": "[encoded data removed]",
      "text/plain": [
       "<matplotlib.figure.Figure at 0x10ca86fd0>"
      ]
     },
     "metadata": {},
     "output_type": "display_data"
    }
   ],
   "source": [
    "# ##################\n",
    "# create a histogram of the data\n",
    "# ##################\n",
    "\n",
    "sns.set(color_codes=True)\n",
    "sns.set(style=\"white\", palette=\"muted\")\n",
    "sns.distplot(latemorning_cabrides_2011_2014_v2[\"tip_ratio\"], hist=True ) "
   ]
  },
  {
   "cell_type": "code",
   "execution_count": 128,
   "metadata": {},
   "outputs": [
    {
     "data": {
      "text/plain": [
       "count    1447.000000\n",
       "mean        2.819412\n",
       "std         1.500241\n",
       "min         0.000000\n",
       "25%         1.757237\n",
       "50%         2.185445\n",
       "75%         3.744168\n",
       "max         7.020598\n",
       "Name: tip_ratio, dtype: float64"
      ]
     },
     "execution_count": 128,
     "metadata": {},
     "output_type": "execute_result"
    }
   ],
   "source": [
    "earlymorning_cabrides_2011_2014_v2[\"tip_ratio\"].describe()"
   ]
  },
  {
   "cell_type": "code",
   "execution_count": 94,
   "metadata": {},
   "outputs": [
    {
     "data": {
      "text/plain": [
       "count    1447.000000\n",
       "mean        2.602116\n",
       "std         0.473757\n",
       "min         1.228501\n",
       "25%         2.271167\n",
       "50%         2.555296\n",
       "75%         2.933287\n",
       "max         3.814757\n",
       "Name: tip_ratio, dtype: float64"
      ]
     },
     "execution_count": 94,
     "metadata": {},
     "output_type": "execute_result"
    }
   ],
   "source": [
    "latemorning_cabrides_2011_2014_v2[\"tip_ratio\"].describe()"
   ]
  },
  {
   "cell_type": "markdown",
   "metadata": {},
   "source": [
    "***For early morning rides, the tip_ratio mean is 2.82 and the standard deviation is 1.5 \n",
    "For late morning, the tip_ratio mean is 2.6 and the standard deviation is 0.47***\n",
    "\n",
    "***To test the null hypothesis that the means are the same between the two groups, we will use a \n",
    "T-test. The alternative hypothesis is that the means between the two groups are different. The alpha \n",
    "value for this test is 0.01***\n",
    "\n",
    "***One of the assumptions of the T-test is that the groups are from a normal distribution.\n",
    "This has been checked. Because the standard deviations between the two groups differ by one \n",
    "order of magnitude, we will assume that the T-test should be conducted with unequal variances.\n",
    "The other assumption is that the two populations are independent, which should be the case with cab rides\n",
    "from independent, random people.***"
   ]
  },
  {
   "cell_type": "code",
   "execution_count": 127,
   "metadata": {},
   "outputs": [
    {
     "data": {
      "text/plain": [
       "Ttest_indResult(statistic=5.253910189185789, pvalue=1.673270031599623e-07)"
      ]
     },
     "execution_count": 127,
     "metadata": {},
     "output_type": "execute_result"
    }
   ],
   "source": [
    "# ##################\n",
    "# run the T-test to get the T statistic and the associated p-value.\n",
    "# ##################\n",
    "\n",
    "stats.ttest_ind(earlymorning_cabrides_2011_2014_v2[\"tip_ratio\"], \\\n",
    "                latemorning_cabrides_2011_2014_v2[\"tip_ratio\"], \\\n",
    "                equal_var = False)"
   ]
  },
  {
   "cell_type": "markdown",
   "metadata": {},
   "source": [
    "**RESULTS**\n",
    "\n",
    "***T-statistic = 5.254. p-value = 1.67e-07.***\n",
    "\n",
    "***Based on the results of the T-test, where the listed p-value is > the alpha value (0.01) \n",
    "we would reject the null hypothesis that the means between the two populations are same.***"
   ]
  },
  {
   "cell_type": "code",
   "execution_count": null,
   "metadata": {
    "collapsed": true
   },
   "outputs": [],
   "source": []
  }
 ],
 "metadata": {
  "kernelspec": {
   "display_name": "Python 3",
   "language": "python",
   "name": "python3"
  },
  "language_info": {
   "codemirror_mode": {
    "name": "ipython",
    "version": 3
   },
   "file_extension": ".py",
   "mimetype": "text/x-python",
   "name": "python",
   "nbconvert_exporter": "python",
   "pygments_lexer": "ipython3",
   "version": "3.6.4"
  }
 },
 "nbformat": 4,
 "nbformat_minor": 2
}
